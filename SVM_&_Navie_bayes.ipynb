{
  "nbformat": 4,
  "nbformat_minor": 0,
  "metadata": {
    "colab": {
      "provenance": []
    },
    "kernelspec": {
      "name": "python3",
      "display_name": "Python 3"
    },
    "language_info": {
      "name": "python"
    }
  },
  "cells": [
    {
      "cell_type": "markdown",
      "source": [
        "**Question 1 : What is Information Gain, and how is it used in Decision Trees?**\n",
        "\n",
        "Ans: Information Gain (IG)\n",
        "\n",
        "Definition:\n",
        "Information Gain measures how much “information” a feature provides about the target variable. In simpler terms, it tells us how well a feature separates the data into classes.\n",
        "\n",
        "It is based on the concept of entropy, which quantifies the uncertainty or impurity in a dataset.\n",
        "\n",
        "Entropy formula:\n",
        "![image.png](data:image/png;base64,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)\n",
        "\n",
        "Where:\n",
        "\n",
        "𝑆= dataset\n",
        "\n",
        "𝑝𝑖= proportion of examples in class\n",
        "\n",
        "𝑛= number of classes\n",
        "\n",
        "Information Gain formula:\n",
        "![image.png](data:image/png;base64,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)\n",
        "\n",
        "Where:\n",
        "\n",
        "𝑆 = original dataset\n",
        "\n",
        "𝐴 = attribute (feature) we are evaluating\n",
        "\n",
        "𝑆𝑣 = subset of 𝑆 where feature 𝐴 has value 𝑣\n",
        "\n",
        "∣𝑆𝑣∣/∣𝑆∣ = weight of subset in the total dataset\n",
        "\n",
        "Interpretation:\n",
        "\n",
        "High Information Gain ⇒ feature reduces uncertainty a lot ⇒ good feature to split on.\n",
        "\n",
        "Low Information Gain ⇒ feature does not reduce uncertainty much ⇒ less useful for splitting.\n",
        "\n",
        "Use in Decision Trees\n",
        "\n",
        "Root selection:\n",
        "At each node of the tree, the algorithm calculates IG for all candidate features.\n",
        "The feature with the highest Information Gain is selected as the splitting feature.\n",
        "\n",
        "Splitting:\n",
        "The dataset is split into subsets based on the selected feature values.\n",
        "\n",
        "Recursive process:\n",
        "The process repeats for each subset until stopping criteria are met (e.g., all nodes are pure or maximum depth reached)."
      ],
      "metadata": {
        "id": "ZS5GeuWgHqN6"
      }
    },
    {
      "cell_type": "markdown",
      "source": [
        "**Question 2: What is the difference between Gini Impurity and Entropy?\n",
        "Hint: Directly compares the two main impurity measures, highlighting strengths,\n",
        "weaknesses, and appropriate use cases.**\n",
        "\n",
        "Ans: | Aspect             | **Gini Impurity**                                                                                                                            | **Entropy**                                                                                               |\n",
        "| ------------------ | -------------------------------------------------------------------------------------------------------------------------------------------- | --------------------------------------------------------------------------------------------------------- |\n",
        "| **Definition**     | Measures the probability of misclassifying a randomly chosen element if it was labeled according to the distribution of classes in the node. | Measures the uncertainty or disorder in a dataset (based on information theory).                          |\n",
        "| **Formula**        | ( Gini = 1 - \\sum_{i=1}^{n} p_i^2 )                                                                                                          | ( Entropy = - \\sum_{i=1}^{n} p_i \\log_2(p_i) )                                                            |\n",
        "| **Range**          | 0 (pure) to (1 - 1/n) (max impurity for n classes)                                                                                           | 0 (pure) to (\\log_2(n)) (max entropy for n classes)                                                       |\n",
        "| **Sensitivity**    | Less sensitive to changes in class probabilities; faster to compute.                                                                         | More sensitive to changes in class probabilities; captures information content.                           |\n",
        "| **Computation**    | Simpler, requires fewer calculations.                                                                                                        | Slightly more complex due to logarithm.                                                                   |\n",
        "| **Use Case**       | Often used in **CART (Classification and Regression Trees)**. Works well for large datasets.                                                 | Commonly used in **ID3 and C4.5 algorithms**. Provides a more theoretically grounded measure of impurity. |\n",
        "| **Interpretation** | Measures impurity in terms of misclassification probability.                                                                                 | Measures impurity in terms of expected information (bits) needed to classify.                             |\n"
      ],
      "metadata": {
        "id": "VoNu6MHYHqJr"
      }
    },
    {
      "cell_type": "markdown",
      "source": [
        "**Question 3:What is Pre-Pruning in Decision Trees?**\n",
        "\n",
        "Ans: Pre-Pruning in Decision Trees\n",
        "\n",
        "Definition:\n",
        "Pre-pruning is a technique used to stop the growth of a decision tree early, before it perfectly fits the training data. The goal is to prevent overfitting and improve generalization on unseen data.\n",
        "\n",
        "How it works:\n",
        "During tree construction, the algorithm evaluates whether to split a node further based on certain criteria. If the criteria are not met, the node becomes a leaf node, and no further splits occur.\n",
        "\n",
        "Common Pre-Pruning Criteria:\n",
        "\n",
        "\n",
        "*   Maximum depth: Stop splitting when the tree reaches a specified depth.\n",
        "*   Minimum samples per node: Do not split if a node has fewer than a certain number of samples.\n",
        "*   Minimum information gain / impurity reduction: Only split if the feature provides enough improvement (e.g., information gain exceeds a threshold).\n",
        "*   Maximum number of leaf nodes: Limit the total number of leaves in the tree.\n",
        "\n",
        "Advantages of Pre-Pruning\n",
        "\n",
        "\n",
        "\n",
        "*   Reduces overfitting.\n",
        "*   Produces simpler and more interpretable trees.\n",
        "*   Faster training as the tree is smaller.\n",
        "\n",
        "Disadvantages\n",
        "\n",
        "*   Risk of underfitting if the tree is stopped too early.\n",
        "*   Might miss complex patterns in the data."
      ],
      "metadata": {
        "id": "G95u6PwQHqER"
      }
    },
    {
      "cell_type": "markdown",
      "source": [
        "**Question 4:Write a Python program to train a Decision Tree Classifier using Gini Impurity as the criterion and print the feature importances (practical).\n",
        "Hint: Use criterion='gini' in DecisionTreeClassifier and access .feature_importances_.**\n",
        "\n",
        "Ans: Here's the Python code\n",
        "\n",
        "    # Import necessary libraries\n",
        "    import pandas as pd\n",
        "    from sklearn.model_selection import train_test_split\n",
        "    from sklearn.tree import DecisionTreeClassifier\n",
        "\n",
        "    # Assume df is your dataset and 'target' is the label column\n",
        "    # Example: df['target'] = 0 or 1\n",
        "\n",
        "    # Features and target\n",
        "    X = df.drop('target', axis=1)  # Replace 'target' with your target column\n",
        "    y = df['target']\n",
        "\n",
        "    # Split dataset into training and testing sets\n",
        "    X_train, X_test, y_train, y_test = train_test_split(X, y, test_size=0.3, random_state=42)\n",
        "\n",
        "    # Initialize Decision Tree Classifier with Gini criterion\n",
        "    dt_classifier = DecisionTreeClassifier(criterion='gini', random_state=42)\n",
        "\n",
        "    # Train the classifier\n",
        "    dt_classifier.fit(X_train, y_train)\n",
        "\n",
        "    # Print feature importances\n",
        "    feature_importances = pd.Series(dt_classifier.feature_importances_, index=X.columns)\n",
        "    feature_importances = feature_importances.sort_values(ascending=False)\n",
        "\n",
        "    print(\"Feature Importances:\")\n",
        "    print(feature_importances)\n",
        "\n",
        "\n",
        "Explanation:\n",
        "\n",
        "criterion='gini' tells the tree to use Gini Impurity for splitting.\n",
        "\n",
        ".feature_importances_ gives a numeric value representing the importance of each feature in making predictions.\n",
        "\n",
        "Sorting them helps identify the most influential features."
      ],
      "metadata": {
        "id": "oPeDYF3qHp_0"
      }
    },
    {
      "cell_type": "markdown",
      "source": [
        "**Question 5: What is a Support Vector Machine (SVM)?**\n",
        "\n",
        "Ans: Support Vector Machine (SVM)\n",
        "\n",
        "Definition:\n",
        "\n",
        "SVM is a supervised machine learning algorithm used for classification and regression tasks. Its main goal is to find the best boundary (hyperplane) that separates data points of different classes with the maximum margin.\n",
        "\n",
        "Key Concepts:\n",
        "\n",
        "1. Hyperplane:\n",
        "\n",
        "*   A line (in 2D), plane (in 3D), or a higher-dimensional plane that separates different classes.\n",
        "*   SVM finds the hyperplane that maximizes the margin between classes.\n",
        "\n",
        "2. Margin:\n",
        "\n",
        "*   The distance between the hyperplane and the nearest data points from each class\n",
        "*   SVM aims to maximize this margin to improve generalization.\n",
        "\n",
        "3. Support Vectors:\n",
        "\n",
        "*   The data points closest to the hyperplane.\n",
        "*   These points are critical because the hyperplane’s position depends only on them.\n",
        "\n",
        "4. Kernels:\n",
        "\n",
        "*   SVM can handle non-linear separable data by transforming it into a higher-dimensional space using kernel functions such as:\n",
        "\n",
        "    *   Linear\n",
        "    *   Polynomial\n",
        "    *   Radial Basis Function (RBF)\n",
        "    *   Sigmoid\n",
        "\n",
        "Advantages of SVM:\n",
        "\n",
        "*   Works well with high-dimensional data.\n",
        "*   Effective when there is a clear margin of separation between classes.\n",
        "*   Can handle non-linear classification using kernels.\n",
        "\n",
        "Disadvantages:\n",
        "\n",
        "*   Can be slow with very large datasets.\n",
        "*   Choosing the right kernel and parameters can be tricky.\n",
        "*   Less effective if classes overlap heavily.\n"
      ],
      "metadata": {
        "id": "CNJ9PhrzHp2h"
      }
    },
    {
      "cell_type": "markdown",
      "source": [
        "**Question 6: What is the Kernel Trick in SVM?**\n",
        "\n",
        "Ans: Definition: The Kernel Trick is a mathematical technique used in Support Vector Machines (SVM) to handle non-linearly separable data by implicitly mapping it into a higher-dimensional space—without actually performing the transformation.\n",
        "\n",
        "This allows SVM to find a linear boundary in that higher-dimensional space, which corresponds to a non-linear boundary in the original space.\n",
        "\n",
        "How It Works:\n",
        "\n",
        "In some datasets, classes cannot be separated by a straight line (linear boundary).\n",
        "\n",
        "Instead of adding new features manually, the kernel function computes the inner product of two data points in a higher-dimensional space.\n",
        "\n",
        "The key idea is that the transformation happens implicitly, avoiding expensive computations.\n",
        "\n",
        "Example (Conceptual):\n",
        "\n",
        "Instead of drawing a straight line to separate points shaped like a circle, the kernel trick maps the data into a higher dimension where a plane (linear separator) can easily divide the classes.\n"
      ],
      "metadata": {
        "id": "ObSzWdGVH4R8"
      }
    },
    {
      "cell_type": "markdown",
      "source": [
        "**Question 7: Write a Python program to train two SVM classifiers with Linear and RBF kernels on the Wine dataset, then compare their accuracies.\n",
        "Hint:Use SVC(kernel='linear') and SVC(kernel='rbf'), then compare accuracy scores after fitting on the same dataset.(Include your Python code and output in the code box below.)**"
      ],
      "metadata": {
        "id": "IP7HH9T7H6SN"
      }
    },
    {
      "cell_type": "code",
      "execution_count": 1,
      "metadata": {
        "colab": {
          "base_uri": "https://localhost:8080/"
        },
        "id": "zTa5pzAtHnaJ",
        "outputId": "141825ac-2231-4499-fb28-9685a4b6922c"
      },
      "outputs": [
        {
          "output_type": "stream",
          "name": "stdout",
          "text": [
            "Accuracy with Linear Kernel: 0.9814814814814815\n",
            "Accuracy with RBF Kernel: 0.9814814814814815\n"
          ]
        }
      ],
      "source": [
        "# Import necessary libraries\n",
        "from sklearn.datasets import load_wine\n",
        "from sklearn.model_selection import train_test_split\n",
        "from sklearn.preprocessing import StandardScaler\n",
        "from sklearn.svm import SVC\n",
        "from sklearn.metrics import accuracy_score\n",
        "\n",
        "# Load the Wine dataset\n",
        "wine = load_wine()\n",
        "X = wine.data\n",
        "y = wine.target\n",
        "\n",
        "# Split into train and test sets\n",
        "X_train, X_test, y_train, y_test = train_test_split(X, y, test_size=0.3, random_state=42)\n",
        "\n",
        "# Standardize the features\n",
        "scaler = StandardScaler()\n",
        "X_train = scaler.fit_transform(X_train)\n",
        "X_test = scaler.transform(X_test)\n",
        "\n",
        "# Train SVM with Linear Kernel\n",
        "svm_linear = SVC(kernel='linear', random_state=42)\n",
        "svm_linear.fit(X_train, y_train)\n",
        "y_pred_linear = svm_linear.predict(X_test)\n",
        "\n",
        "# Train SVM with RBF Kernel\n",
        "svm_rbf = SVC(kernel='rbf', random_state=42)\n",
        "svm_rbf.fit(X_train, y_train)\n",
        "y_pred_rbf = svm_rbf.predict(X_test)\n",
        "\n",
        "# Calculate accuracies\n",
        "acc_linear = accuracy_score(y_test, y_pred_linear)\n",
        "acc_rbf = accuracy_score(y_test, y_pred_rbf)\n",
        "\n",
        "# Print results\n",
        "print(\"Accuracy with Linear Kernel:\", acc_linear)\n",
        "print(\"Accuracy with RBF Kernel:\", acc_rbf)\n"
      ]
    },
    {
      "cell_type": "markdown",
      "source": [
        "**Question 8: What is the Naïve Bayes classifier, and why is it called \"Naïve\"?**\n",
        "\n",
        "Ans: Definition: The Naïve Bayes classifier is a probabilistic machine learning algorithm based on Bayes’ Theorem.\n",
        "It is mainly used for classification tasks such as spam detection, sentiment analysis, and text categorization.\n",
        "\n",
        "It predicts the class of a given data point based on probabilities calculated from the training data.\n",
        "\n",
        "Bayes’ Theorem:\n",
        "![image.png](data:image/png;base64,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)\n",
        "\n",
        "Where:\n",
        "\n",
        "*   P(A∣B) → Probability of class 𝐴 given the evidence 𝐵(posterior probability).\n",
        "*   P(B∣A) → Probability of evidence given class 𝐴 (likelihood).\n",
        "*   P(A) → Prior probability of class 𝐴.\n",
        "*   P(B) → Probability of the evidence (acts as normalization).\n",
        "\n",
        "It’s called “Naïve” because the algorithm makes a strong assumption —\n",
        "that all features (attributes) are independent of each other, given the class label.\n",
        "\n",
        "Example:\n",
        "In email spam detection, Naïve Bayes assumes that the occurrence of words like “offer” and “free” are independent — even though in reality, they often appear together.\n",
        "\n",
        "This independence assumption makes the model naïve — but it still performs surprisingly well in practice, especially with text data."
      ],
      "metadata": {
        "id": "oNLvnK6qH-M0"
      }
    },
    {
      "cell_type": "markdown",
      "source": [
        "**Question 9: Explain the differences between Gaussian Naïve Bayes, Multinomial Naïve Bayes, and Bernoulli Naïve Bayes**\n",
        "\n",
        "Ans: 1. Gaussian Naïve Bayes:\n",
        "\n",
        "*   Used when input features are continuous.\n",
        "*   Assumes that the continuous values associated with each class are distributed according to a Gaussian (normal) distribution.\n",
        "*   Formula for likelihood:\n",
        "![image.png](data:image/png;base64,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)\n",
        "\n",
        "    Example: Predicting if a patient has a disease based on blood pressure or age.\n",
        "\n",
        "2. Multinomial Naïve Bayes:\n",
        "\n",
        "*   Used when features represent discrete counts, e.g., the number of times a word appears in a document.\n",
        "*   Often used with TF-IDF or count vectors.\n",
        "\n",
        "    Example: Predicting if an email is spam based on word frequencies.\n",
        "\n",
        "3. Bernoulli Naïve Bayes:\n",
        "\n",
        "*   Used for binary features (1 = present, 0 = absent).\n",
        "*   Considers only the presence or absence of a feature, not how often it appears.\n",
        "\n",
        "    Example: If a word like “discount” appears (1) or not (0) in an email to detect spam."
      ],
      "metadata": {
        "id": "iYfKUaFDICoM"
      }
    },
    {
      "cell_type": "markdown",
      "source": [
        "**Question 10: Breast Cancer Dataset. Write a Python program to train a Gaussian Naïve Bayes classifier on the Breast Cancer dataset and evaluate accuracy. Hint:Use GaussianNB() from sklearn.naive_bayes and the Breast Cancer dataset from sklearn.datasets.(Include your Python code and output in the code box below.)**"
      ],
      "metadata": {
        "id": "7DBDoihSIDqc"
      }
    },
    {
      "cell_type": "code",
      "source": [
        "# Import required libraries\n",
        "from sklearn.datasets import load_breast_cancer\n",
        "from sklearn.model_selection import train_test_split\n",
        "from sklearn.naive_bayes import GaussianNB\n",
        "from sklearn.metrics import accuracy_score, classification_report\n",
        "\n",
        "# Load the Breast Cancer dataset\n",
        "data = load_breast_cancer()\n",
        "X = data.data\n",
        "y = data.target\n",
        "\n",
        "# Split into train and test sets (80% training, 20% testing)\n",
        "X_train, X_test, y_train, y_test = train_test_split(X, y, test_size=0.2, random_state=42)\n",
        "\n",
        "# Initialize the Gaussian Naïve Bayes model\n",
        "gnb = GaussianNB()\n",
        "\n",
        "# Train the model\n",
        "gnb.fit(X_train, y_train)\n",
        "\n",
        "# Predict on test data\n",
        "y_pred = gnb.predict(X_test)\n",
        "\n",
        "# Evaluate accuracy\n",
        "accuracy = accuracy_score(y_test, y_pred)\n",
        "\n",
        "# Print results\n",
        "print(\"Accuracy of Gaussian Naïve Bayes Classifier:\", round(accuracy * 100, 2), \"%\")\n",
        "print(\"\\nClassification Report:\\n\", classification_report(y_test, y_pred))\n"
      ],
      "metadata": {
        "colab": {
          "base_uri": "https://localhost:8080/"
        },
        "id": "yucUUQy8H8wm",
        "outputId": "9a91dcf0-1544-45ec-c91a-ceb6688b6fd6"
      },
      "execution_count": 2,
      "outputs": [
        {
          "output_type": "stream",
          "name": "stdout",
          "text": [
            "Accuracy of Gaussian Naïve Bayes Classifier: 97.37 %\n",
            "\n",
            "Classification Report:\n",
            "               precision    recall  f1-score   support\n",
            "\n",
            "           0       1.00      0.93      0.96        43\n",
            "           1       0.96      1.00      0.98        71\n",
            "\n",
            "    accuracy                           0.97       114\n",
            "   macro avg       0.98      0.97      0.97       114\n",
            "weighted avg       0.97      0.97      0.97       114\n",
            "\n"
          ]
        }
      ]
    },
    {
      "cell_type": "code",
      "source": [],
      "metadata": {
        "id": "oacK6mQxIH51"
      },
      "execution_count": null,
      "outputs": []
    }
  ]
}